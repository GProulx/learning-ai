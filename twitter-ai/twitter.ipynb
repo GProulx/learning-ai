{
 "cells": [
  {
   "cell_type": "code",
   "execution_count": 3,
   "metadata": {
    "scrolled": true
   },
   "outputs": [
    {
     "name": "stdout",
     "output_type": "stream",
     "text": [
      "  x.ScreenName                x.Name  \\\n",
      "0         PADI                  PADI   \n",
      "1  PADI_Travel           PADI Travel   \n",
      "2   sportdiver  Sport Diver Magazine   \n",
      "3   PADITecRec           PADI TecRec   \n",
      "4     scubacom             Scuba.com   \n",
      "\n",
      "                                       x.Description  \\\n",
      "0  PADI is The Way the World Learns to Dive - How...   \n",
      "1  PADI Travel is the ultimate online travel agen...   \n",
      "2  The leading magazine for scuba diving enthusia...   \n",
      "3  For news about technical diving and the PADI T...   \n",
      "4           Your Source For All Your Diving Needs...   \n",
      "\n",
      "                                     FullDescription  \n",
      "0  PADI PADI PADI is The Way the World Learns to ...  \n",
      "1  PADI_Travel PADI Travel PADI Travel is the ult...  \n",
      "2  sportdiver Sport Diver Magazine The leading ma...  \n",
      "3  PADITecRec PADI TecRec For news about technica...  \n",
      "4  scubacom Scuba.com Your Source For All Your Di...  \n",
      "       x.ScreenName          x.Name  \\\n",
      "count            26              26   \n",
      "unique           26              26   \n",
      "top      PADITecRec  Crystal Images   \n",
      "freq              1               1   \n",
      "\n",
      "                                            x.Description  \\\n",
      "count                                                  24   \n",
      "unique                                                 24   \n",
      "top     Great Lakes Divers is a full-service dive shop...   \n",
      "freq                                                    1   \n",
      "\n",
      "                                          FullDescription  \n",
      "count                                                  26  \n",
      "unique                                                 26  \n",
      "top     DEMAorg DEMA.org DEMA exists to promote sustai...  \n",
      "freq                                                    1  \n"
     ]
    }
   ],
   "source": [
    "import pandas as pd\n",
    "ia_data = pd.read_csv('../datasets/twitter-ia/scubadiving.csv')\n",
    "print(ia_data.head())\n",
    "print(ia_data.describe())"
   ]
  },
  {
   "cell_type": "code",
   "execution_count": 4,
   "metadata": {},
   "outputs": [
    {
     "data": {
      "text/plain": [
       "count                                                    26\n",
       "unique                                                   26\n",
       "top       DEMAorg DEMA.org DEMA exists to promote sustai...\n",
       "freq                                                      1\n",
       "Name: FullDescription, dtype: object"
      ]
     },
     "execution_count": 4,
     "metadata": {},
     "output_type": "execute_result"
    }
   ],
   "source": [
    "ia_data['FullDescription'].describe()"
   ]
  },
  {
   "cell_type": "code",
   "execution_count": 5,
   "metadata": {},
   "outputs": [
    {
     "data": {
      "text/plain": [
       "'PADI PADI PADI is The Way the World Learns to Dive - How has scuba diving transformed YOUR life? Tweet us your diving stories and pictures! #MyPADI'"
      ]
     },
     "execution_count": 5,
     "metadata": {},
     "output_type": "execute_result"
    }
   ],
   "source": [
    "ia_data['FullDescription'][0]"
   ]
  },
  {
   "cell_type": "code",
   "execution_count": 6,
   "metadata": {},
   "outputs": [
    {
     "data": {
      "text/plain": [
       "['PADI',\n",
       " 'PADI',\n",
       " 'PADI',\n",
       " 'is',\n",
       " 'The',\n",
       " 'Way',\n",
       " 'the',\n",
       " 'World',\n",
       " 'Learns',\n",
       " 'to',\n",
       " 'Dive',\n",
       " '-',\n",
       " 'How',\n",
       " 'has',\n",
       " 'scuba',\n",
       " 'diving',\n",
       " 'transformed',\n",
       " 'YOUR',\n",
       " 'life?',\n",
       " 'Tweet',\n",
       " 'us',\n",
       " 'your',\n",
       " 'diving',\n",
       " 'stories',\n",
       " 'and',\n",
       " 'pictures!',\n",
       " '#MyPADI']"
      ]
     },
     "execution_count": 6,
     "metadata": {},
     "output_type": "execute_result"
    }
   ],
   "source": [
    "ia_data['FullDescription'][0].split()"
   ]
  },
  {
   "cell_type": "code",
   "execution_count": null,
   "metadata": {},
   "outputs": [],
   "source": []
  }
 ],
 "metadata": {
  "kernelspec": {
   "display_name": "Python 3",
   "language": "python",
   "name": "python3"
  },
  "language_info": {
   "codemirror_mode": {
    "name": "ipython",
    "version": 3
   },
   "file_extension": ".py",
   "mimetype": "text/x-python",
   "name": "python",
   "nbconvert_exporter": "python",
   "pygments_lexer": "ipython3",
   "version": "3.6.4"
  }
 },
 "nbformat": 4,
 "nbformat_minor": 2
}
