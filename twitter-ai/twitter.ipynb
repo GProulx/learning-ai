{
 "cells": [
  {
   "cell_type": "code",
   "execution_count": 70,
   "metadata": {
    "scrolled": true
   },
   "outputs": [
    {
     "name": "stdout",
     "output_type": "stream",
     "text": [
      "  x.ScreenName                x.Name  \\\n",
      "0         PADI                  PADI   \n",
      "1  PADI_Travel           PADI Travel   \n",
      "2   sportdiver  Sport Diver Magazine   \n",
      "3   PADITecRec           PADI TecRec   \n",
      "4     scubacom             Scuba.com   \n",
      "\n",
      "                                       x.Description  \\\n",
      "0  PADI is The Way the World Learns to Dive - How...   \n",
      "1  PADI Travel is the ultimate online travel agen...   \n",
      "2  The leading magazine for scuba diving enthusia...   \n",
      "3  For news about technical diving and the PADI T...   \n",
      "4           Your Source For All Your Diving Needs...   \n",
      "\n",
      "                                     FullDescription  \n",
      "0  PADI PADI PADI is The Way the World Learns to ...  \n",
      "1  PADI_Travel PADI Travel PADI Travel is the ult...  \n",
      "2  sportdiver Sport Diver Magazine The leading ma...  \n",
      "3  PADITecRec PADI TecRec For news about technica...  \n",
      "4  scubacom Scuba.com Your Source For All Your Di...  \n",
      "       x.ScreenName            x.Name  \\\n",
      "count            26                26   \n",
      "unique           26                26   \n",
      "top      PADITecRec  Scuba Diver Life   \n",
      "freq              1                 1   \n",
      "\n",
      "                                            x.Description  \\\n",
      "count                                                  24   \n",
      "unique                                                 24   \n",
      "top     Oceanographer, National Geographic Explorer-In...   \n",
      "freq                                                    1   \n",
      "\n",
      "                                          FullDescription  \n",
      "count                                                  26  \n",
      "unique                                                 26  \n",
      "top     SylviaEarle Sylvia A. Earle Oceanographer, Nat...  \n",
      "freq                                                    1  \n"
     ]
    }
   ],
   "source": [
    "import pandas as pd\n",
    "ia_data = pd.read_csv('../datasets/twitter-ia/scubadiving.csv')\n",
    "print(ia_data.head())\n",
    "print(ia_data.describe())"
   ]
  },
  {
   "cell_type": "code",
   "execution_count": 47,
   "metadata": {},
   "outputs": [
    {
     "data": {
      "text/plain": [
       "count                                                    16\n",
       "unique                                                   16\n",
       "top       GCPDataML GCP Data & ML Covering cloud-native ...\n",
       "freq                                                      1\n",
       "Name: FullDescription, dtype: object"
      ]
     },
     "execution_count": 47,
     "metadata": {},
     "output_type": "execute_result"
    }
   ],
   "source": [
    "ia_data['FullDescription'].describe()"
   ]
  },
  {
   "cell_type": "code",
   "execution_count": 48,
   "metadata": {},
   "outputs": [
    {
     "data": {
      "text/plain": [
       "'DeepMindAI DeepMind Founded in 2010.  Building Artificial General Intelligence. The creators of #AlphaGo and Atari DQN'"
      ]
     },
     "execution_count": 48,
     "metadata": {},
     "output_type": "execute_result"
    }
   ],
   "source": [
    "ia_data['FullDescription'][11]"
   ]
  },
  {
   "cell_type": "code",
   "execution_count": 49,
   "metadata": {},
   "outputs": [
    {
     "data": {
      "text/plain": [
       "['GCPcloud',\n",
       " 'Google',\n",
       " 'Cloud',\n",
       " 'Platform',\n",
       " 'Helping',\n",
       " 'developers',\n",
       " 'build',\n",
       " 'what’s',\n",
       " 'next',\n",
       " 'with',\n",
       " 'visionary',\n",
       " 'cloud',\n",
       " 'tools',\n",
       " 'and',\n",
       " 'infrastructure,',\n",
       " 'applications,',\n",
       " 'maps',\n",
       " 'and',\n",
       " 'devices.']"
      ]
     },
     "execution_count": 49,
     "metadata": {},
     "output_type": "execute_result"
    }
   ],
   "source": [
    "ia_data['FullDescription'][0].split()"
   ]
  },
  {
   "cell_type": "code",
   "execution_count": 50,
   "metadata": {},
   "outputs": [],
   "source": [
    "import splitter"
   ]
  },
  {
   "cell_type": "code",
   "execution_count": 51,
   "metadata": {},
   "outputs": [
    {
     "data": {
      "text/plain": [
       "['Tout', 'commence', 'temps', 'des', 'dinosaures']"
      ]
     },
     "execution_count": 51,
     "metadata": {},
     "output_type": "execute_result"
    }
   ],
   "source": [
    "splitter.splitter.extract_basic(\"Tout a commence au temps des dinosaures\")"
   ]
  },
  {
   "cell_type": "code",
   "execution_count": 99,
   "metadata": {},
   "outputs": [
    {
     "data": {
      "text/plain": [
       "('Mares_Tweet MARES Just Add Water ',\n",
       " ['scubadivergear',\n",
       "  'ScubaGearReviewer',\n",
       "  'https://t',\n",
       "  'co/ltl0IKCAfI',\n",
       "  'brings',\n",
       "  'you',\n",
       "  'all',\n",
       "  'that',\n",
       "  '#scuba',\n",
       "  'all',\n",
       "  'novice',\n",
       "  'expert',\n",
       "  '#divers',\n",
       "  '#scubadiving',\n",
       "  '#divegear'])"
      ]
     },
     "execution_count": 99,
     "metadata": {},
     "output_type": "execute_result"
    }
   ],
   "source": [
    "ia_data['FullDescription'][16], splitter.splitter.extract_basic(ia_data['FullDescription'][24])"
   ]
  },
  {
   "cell_type": "code",
   "execution_count": null,
   "metadata": {},
   "outputs": [],
   "source": []
  }
 ],
 "metadata": {
  "kernelspec": {
   "display_name": "Python 3",
   "language": "python",
   "name": "python3"
  },
  "language_info": {
   "codemirror_mode": {
    "name": "ipython",
    "version": 3
   },
   "file_extension": ".py",
   "mimetype": "text/x-python",
   "name": "python",
   "nbconvert_exporter": "python",
   "pygments_lexer": "ipython3",
   "version": "3.6.4"
  }
 },
 "nbformat": 4,
 "nbformat_minor": 2
}
